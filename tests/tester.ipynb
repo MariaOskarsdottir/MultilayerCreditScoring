{
 "cells": [
  {
   "cell_type": "code",
   "execution_count": null,
   "metadata": {},
   "outputs": [],
   "source": [
    "import csv\n",
    "import os\n",
    "from itertools import permutations\n",
    "import numpy as np\n",
    "from igraph import Graph\n",
    "from functools import reduce\n",
    "import pandas as pd\n",
    "from operator import and_\n",
    "from scipy.sparse.linalg import eigs\n",
    "from scipy.sparse import lil_matrix, dok_matrix\n",
    "from sklearn.preprocessing import normalize\n",
    "from collections import defaultdict\n",
    "import time\n",
    "from pprint import pprint\n",
    "from itertools import permutations\n",
    "from typing import List"
   ]
  },
  {
   "cell_type": "code",
   "execution_count": null,
   "metadata": {},
   "outputs": [
    {
     "data": {
      "text/plain": [
       "defaultdict(dict,\n",
       "            {'products': {'627151': -1.5108809406506036e-15,\n",
       "              '1021000': 1.1443213312908338e-15,\n",
       "              '709371': 2.0320973455220374e-14,\n",
       "              '710757': 8.069935869331896e-15,\n",
       "              '593196': 0.3354976529933778,\n",
       "              '1240943': 1.6571322960735462e-14,\n",
       "              '1240866': 1.568019278455636e-14,\n",
       "              '1055702': -1.6188312829531425e-15,\n",
       "              '538126': 3.9776619025999534e-16,\n",
       "              '874571': 7.414102809042883e-16,\n",
       "              'AGRICOLA': -8.463210591185451e-16,\n",
       "              'OTROS': 6.160417625294266e-16,\n",
       "              'RIEGO': 2.280914614737364e-14,\n",
       "              'GENERALES': 6.546132300871043e-15,\n",
       "              'GANADERA': 3.870253322080054e-15,\n",
       "              'ANIMAL': 0.1645023470065359,\n",
       "              'LENA': -8.177625305392534e-16,\n",
       "              'COMPLEMENTARIO': 2.4224642002502015e-16,\n",
       "              'SUBSIDIO': 4.470597389718598e-16},\n",
       "             'districts': {'627151': -1.4397618709814327e-15,\n",
       "              '1021000': 9.491667923917817e-16,\n",
       "              '709371': 1.2032940279307779e-14,\n",
       "              '710757': 9.095192378652068e-15,\n",
       "              '593196': 0.3354976529933778,\n",
       "              '1240943': 1.7193999919691265e-14,\n",
       "              '1240866': 1.6312719750178213e-14,\n",
       "              '1055702': -1.5438458044594972e-15,\n",
       "              '538126': 4.762886081385861e-16,\n",
       "              '874571': 4.0681605968638676e-16,\n",
       "              '6302': -6.868515741672274e-16,\n",
       "              '10402': 4.787358610241818e-16,\n",
       "              '7306': 1.0498541204878325e-14,\n",
       "              '6117': 0.16450234700653557,\n",
       "              '13202': 1.6789594508109538e-14,\n",
       "              '10401': -7.33862958624547e-16,\n",
       "              '4105': 1.9139168009106996e-16,\n",
       "              '9101': 1.3497484241124952e-16}})"
      ]
     },
     "execution_count": 38,
     "metadata": {},
     "output_type": "execute_result"
    }
   ],
   "source": [
    "ranker = MultiLayerRanker(layer_files=['products.ncol','districts.ncol'],\n",
    "                           common_nodes_file= './common.csv',\n",
    "                           personal_file= './personal.csv',\n",
    "                           bidirectional=True)\n",
    "eigs = ranker.pageRank(alpha = .85)\n",
    "ranker.formattedRanks(eigs)"
   ]
  }
 ],
 "metadata": {
  "kernelspec": {
   "display_name": "ml",
   "language": "python",
   "name": "python3"
  },
  "language_info": {
   "codemirror_mode": {
    "name": "ipython",
    "version": 3
   },
   "file_extension": ".py",
   "mimetype": "text/x-python",
   "name": "python",
   "nbconvert_exporter": "python",
   "pygments_lexer": "ipython3",
   "version": "3.11.5"
  },
  "orig_nbformat": 4
 },
 "nbformat": 4,
 "nbformat_minor": 2
}
